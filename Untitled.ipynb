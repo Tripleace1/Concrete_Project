{
 "cells": [
  {
   "cell_type": "code",
   "execution_count": 1,
   "id": "d9add7e2-26da-46a4-b1ab-8ea09772a9f4",
   "metadata": {
    "tags": []
   },
   "outputs": [
    {
     "name": "stdout",
     "output_type": "stream",
     "text": [
      "Training R² Score: 0.8814\n",
      "Testing R² Score: 0.1364\n"
     ]
    },
    {
     "data": {
      "text/plain": [
       "['concrete_model.pkl']"
      ]
     },
     "execution_count": 1,
     "metadata": {},
     "output_type": "execute_result"
    }
   ],
   "source": [
    "import pandas as pd\n",
    "import numpy as np\n",
    "from sklearn.model_selection import train_test_split\n",
    "from sklearn.ensemble import RandomForestRegressor\n",
    "from sklearn.preprocessing import OneHotEncoder\n",
    "from sklearn.compose import ColumnTransformer\n",
    "from sklearn.pipeline import Pipeline\n",
    "import joblib\n",
    "\n",
    "# Loading the dataset\n",
    "data = pd.read_excel('synthetic_rubber_concrete.xlsx')\n",
    "\n",
    "# Handling negative values in strength columns (assuming they are anomalies)\n",
    "strength_cols = ['compressive_strength_MPa', 'flexural_strength_MPa', 'tensile_strength_MPa', 'modulus_of_elasticity_GPa']\n",
    "for col in strength_cols:\n",
    "    data = data[data[col] >= 0]  # Remove rows with negative values\n",
    "\n",
    "# Defining input and output features\n",
    "X = data[['cement_kg_m3', 'fine_aggregate_kg_m3', 'coarse_aggregate_kg_m3', 'rubber_pct', \n",
    "          'water_pct', 'w_c_ratio', 'rubber_shape', 'rubber_size', 'curing_days']]\n",
    "y = data[['compressive_strength_MPa', 'flexural_strength_MPa', 'tensile_strength_MPa', 'modulus_of_elasticity_GPa']]\n",
    "\n",
    "# Defining categorical and numerical features\n",
    "categorical_features = ['rubber_shape', 'rubber_size']\n",
    "numerical_features = ['cement_kg_m3', 'fine_aggregate_kg_m3', 'coarse_aggregate_kg_m3', \n",
    "                      'rubber_pct', 'water_pct', 'w_c_ratio', 'curing_days']\n",
    "\n",
    "# Creating a preprocessing pipeline\n",
    "preprocessor = ColumnTransformer(\n",
    "    transformers=[\n",
    "        ('cat', OneHotEncoder(drop='first', handle_unknown='ignore'), categorical_features),\n",
    "        ('num', 'passthrough', numerical_features)\n",
    "    ])\n",
    "\n",
    "# Creating the model pipeline\n",
    "model = Pipeline(steps=[\n",
    "    ('preprocessor', preprocessor),\n",
    "    ('regressor', RandomForestRegressor(n_estimators=100, random_state=42))\n",
    "])\n",
    "\n",
    "# Splitting the data\n",
    "X_train, X_test, y_train, y_test = train_test_split(X, y, test_size=0.2, random_state=42)\n",
    "\n",
    "# Training the model\n",
    "model.fit(X_train, y_train)\n",
    "\n",
    "# Evaluating the model\n",
    "train_score = model.score(X_train, y_train)\n",
    "test_score = model.score(X_test, y_test)\n",
    "print(f\"Training R² Score: {train_score:.4f}\")\n",
    "print(f\"Testing R² Score: {test_score:.4f}\")\n",
    "\n",
    "# Saving the model and preprocessor\n",
    "joblib.dump(model, 'concrete_model.pkl')"
   ]
  },
  {
   "cell_type": "code",
   "execution_count": null,
   "id": "b8b75013-9d8b-42d6-b22a-8e9455281661",
   "metadata": {},
   "outputs": [],
   "source": []
  },
  {
   "cell_type": "code",
   "execution_count": null,
   "id": "749e25f9",
   "metadata": {},
   "outputs": [],
   "source": []
  }
 ],
 "metadata": {
  "kernelspec": {
   "display_name": "Python 3 (ipykernel)",
   "language": "python",
   "name": "python3"
  },
  "language_info": {
   "codemirror_mode": {
    "name": "ipython",
    "version": 3
   },
   "file_extension": ".py",
   "mimetype": "text/x-python",
   "name": "python",
   "nbconvert_exporter": "python",
   "pygments_lexer": "ipython3",
   "version": "3.11.5"
  }
 },
 "nbformat": 4,
 "nbformat_minor": 5
}
